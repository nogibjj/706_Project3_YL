{
 "cells": [
  {
   "cell_type": "code",
   "execution_count": 0,
   "metadata": {
    "application/vnd.databricks.v1+cell": {
     "cellMetadata": {
      "byteLimit": 2048000,
      "rowLimit": 10000
     },
     "inputWidgets": {},
     "nuid": "591e4a0d-955e-4822-98a9-eaf1a70f789b",
     "showTitle": false,
     "title": ""
    }
   },
   "outputs": [],
   "source": [
    "import matplotlib.pyplot as plt\n",
    "import pyspark.sql"
   ]
  },
  {
   "cell_type": "code",
   "execution_count": 0,
   "metadata": {
    "application/vnd.databricks.v1+cell": {
     "cellMetadata": {
      "byteLimit": 2048000,
      "rowLimit": 10000
     },
     "inputWidgets": {},
     "nuid": "5f947df8-6c7f-4cc4-9b17-ebc728a4cdf2",
     "showTitle": false,
     "title": ""
    }
   },
   "outputs": [
    {
     "output_type": "execute_result",
     "data": {
      "text/html": [
       "<div>\n",
       "<style scoped>\n",
       "    .dataframe tbody tr th:only-of-type {\n",
       "        vertical-align: middle;\n",
       "    }\n",
       "\n",
       "    .dataframe tbody tr th {\n",
       "        vertical-align: top;\n",
       "    }\n",
       "\n",
       "    .dataframe thead th {\n",
       "        text-align: right;\n",
       "    }\n",
       "</style>\n",
       "<table border=\"1\" class=\"dataframe\">\n",
       "  <thead>\n",
       "    <tr style=\"text-align: right;\">\n",
       "      <th></th>\n",
       "      <th>year</th>\n",
       "      <th>num_songs</th>\n",
       "    </tr>\n",
       "  </thead>\n",
       "  <tbody>\n",
       "    <tr>\n",
       "      <th>0</th>\n",
       "      <td>2010</td>\n",
       "      <td>1372</td>\n",
       "    </tr>\n",
       "    <tr>\n",
       "      <th>1</th>\n",
       "      <td>2009</td>\n",
       "      <td>3676</td>\n",
       "    </tr>\n",
       "    <tr>\n",
       "      <th>2</th>\n",
       "      <td>2008</td>\n",
       "      <td>4132</td>\n",
       "    </tr>\n",
       "    <tr>\n",
       "      <th>3</th>\n",
       "      <td>2007</td>\n",
       "      <td>5052</td>\n",
       "    </tr>\n",
       "    <tr>\n",
       "      <th>4</th>\n",
       "      <td>2006</td>\n",
       "      <td>4964</td>\n",
       "    </tr>\n",
       "    <tr>\n",
       "      <th>...</th>\n",
       "      <td>...</td>\n",
       "      <td>...</td>\n",
       "    </tr>\n",
       "    <tr>\n",
       "      <th>69</th>\n",
       "      <td>1931</td>\n",
       "      <td>8</td>\n",
       "    </tr>\n",
       "    <tr>\n",
       "      <th>70</th>\n",
       "      <td>1930</td>\n",
       "      <td>4</td>\n",
       "    </tr>\n",
       "    <tr>\n",
       "      <th>71</th>\n",
       "      <td>1929</td>\n",
       "      <td>12</td>\n",
       "    </tr>\n",
       "    <tr>\n",
       "      <th>72</th>\n",
       "      <td>1928</td>\n",
       "      <td>8</td>\n",
       "    </tr>\n",
       "    <tr>\n",
       "      <th>73</th>\n",
       "      <td>1927</td>\n",
       "      <td>4</td>\n",
       "    </tr>\n",
       "  </tbody>\n",
       "</table>\n",
       "<p>74 rows × 2 columns</p>\n",
       "</div>"
      ],
      "text/plain": [
       "    year  num_songs\n",
       "0   2010       1372\n",
       "1   2009       3676\n",
       "2   2008       4132\n",
       "3   2007       5052\n",
       "4   2006       4964\n",
       "..   ...        ...\n",
       "69  1931          8\n",
       "70  1930          4\n",
       "71  1929         12\n",
       "72  1928          8\n",
       "73  1927          4\n",
       "\n",
       "[74 rows x 2 columns]"
      ]
     },
     "execution_count": 3,
     "metadata": {},
     "output_type": "execute_result"
    }
   ],
   "source": [
    "Num_songs_year = spark.sql(\"\"\"\n",
    "    SELECT\n",
    "    year,\n",
    "    count(artist_name) AS num_songs\n",
    "    FROM\n",
    "    prepared_songs_data\n",
    "    WHERE\n",
    "    year > 0\n",
    "    GROUP BY\n",
    "    year\n",
    "    ORDER BY\n",
    "    year DESC\n",
    "\"\"\").toPandas()\n",
    "\n",
    "Num_songs_year"
   ]
  },
  {
   "cell_type": "code",
   "execution_count": 0,
   "metadata": {
    "application/vnd.databricks.v1+cell": {
     "cellMetadata": {
      "byteLimit": 2048000,
      "rowLimit": 10000
     },
     "inputWidgets": {},
     "nuid": "613ef040-ce01-424b-938f-5ba1315b58f6",
     "showTitle": false,
     "title": ""
    }
   },
   "outputs": [
    {
     "output_type": "stream",
     "name": "stdout",
     "output_type": "stream",
     "text": [
      "Data validation passed. 74 rows available.\n"
     ]
    }
   ],
   "source": [
    "# Proper error handling\n",
    "row = Num_songs_year.count()[1]\n",
    "if row>0:\n",
    "    print(f\"Data validation passed. {row} rows available.\")\n",
    "else:\n",
    "    print(\"No data queried\")"
   ]
  },
  {
   "cell_type": "code",
   "execution_count": 0,
   "metadata": {
    "application/vnd.databricks.v1+cell": {
     "cellMetadata": {
      "byteLimit": 2048000,
      "rowLimit": 10000
     },
     "inputWidgets": {},
     "nuid": "5509f3e8-f510-4287-a162-a5dc6b52ba13",
     "showTitle": false,
     "title": ""
    }
   },
   "outputs": [
    {
     "output_type": "display_data",
     "data": {
      "image/png": "[encoded data removed]",
      "text/plain": [
       "<Figure size 1500x800 with 1 Axes>"
      ]
     },
     "metadata": {},
     "output_type": "display_data"
    }
   ],
   "source": [
    "plt.figure(figsize=(15, 8))\n",
    "plt.bar(Num_songs_year[\"year\"], Num_songs_year[\"num_songs\"], color='skyblue')\n",
    "plt.title(\"Number of songs for Each Year\")\n",
    "plt.xlabel(\"Year\")\n",
    "plt.ylabel(\"Number of songs\")\n",
    "plt.show()"
   ]
  },
  {
   "cell_type": "code",
   "execution_count": 0,
   "metadata": {
    "application/vnd.databricks.v1+cell": {
     "cellMetadata": {
      "byteLimit": 2048000,
      "rowLimit": 10000
     },
     "inputWidgets": {},
     "nuid": "37c2b1a8-39c3-45e0-8f9d-f3c8e32a6e7e",
     "showTitle": false,
     "title": ""
    }
   },
   "outputs": [
    {
     "output_type": "execute_result",
     "data": {
      "text/plain": [
       "DataFrame[artist_name: string, num_songs: bigint, year: int]"
      ]
     },
     "execution_count": 6,
     "metadata": {},
     "output_type": "execute_result"
    }
   ],
   "source": [
    "top_artists = spark.sql(\n",
    "    \"\"\"\n",
    "    SELECT\n",
    "    artist_name,\n",
    "    count(artist_name)\n",
    "    AS\n",
    "    num_songs,\n",
    "    year\n",
    "    FROM\n",
    "    prepared_songs_data\n",
    "    WHERE\n",
    "    year > 0\n",
    "    GROUP BY\n",
    "    artist_name,\n",
    "    year\n",
    "    ORDER BY\n",
    "    num_songs DESC,\n",
    "    year DESC\n",
    "    LIMIT 10\n",
    "\"\"\"\n",
    ")\n",
    "\n",
    "top_artists"
   ]
  },
  {
   "cell_type": "code",
   "execution_count": 0,
   "metadata": {
    "application/vnd.databricks.v1+cell": {
     "cellMetadata": {
      "byteLimit": 2048000,
      "rowLimit": 10000
     },
     "inputWidgets": {},
     "nuid": "34dd2094-6006-4b02-9752-aa41687db97d",
     "showTitle": false,
     "title": ""
    }
   },
   "outputs": [],
   "source": [
    "top_DJ = spark.sql(\n",
    "    \"\"\"\n",
    "    SELECT\n",
    "    artist_name,\n",
    "    title,\n",
    "    tempo\n",
    "    FROM\n",
    "    prepared_songs_data\n",
    "    WHERE\n",
    "    time_signature = 4\n",
    "    AND\n",
    "    tempo between 100 and 140\n",
    "    ORDER BY tempo DESC\n",
    "    LIMIT 10\n",
    "\"\"\"\n",
    ")"
   ]
  },
  {
   "cell_type": "code",
   "execution_count": 0,
   "metadata": {
    "application/vnd.databricks.v1+cell": {
     "cellMetadata": {
      "byteLimit": 2048000,
      "rowLimit": 10000
     },
     "inputWidgets": {},
     "nuid": "10e2a49e-9035-45bf-a8f1-7589b9daa62c",
     "showTitle": false,
     "title": ""
    }
   },
   "outputs": [
    {
     "output_type": "stream",
     "name": "stdout",
     "output_type": "stream",
     "text": [
      "                           artist_name  num_songs  year\n0                         Beastie Boys         20  1994\n1                              Roebeck         16  2010\n2                         Darla Farmer         16  2009\n3                          Maximo Park         16  2009\n4                        Calvin Harris         16  2007\n5  Low Low Low La La La Love Love Love         16  2007\n6                       Lucky Fonz III         16  2007\n7                              Shinobu         16  2006\n8                         Susana Félix         16  2006\n9             Ordo Rosarius Equilibrio         16  2006\n                               artist_name  ...  tempo\n0                             Axel Fischer  ...  140.0\n1                               Status Quo  ...  140.0\n2  Senseless Eccentric Cabaret feat. Cyfer  ...  140.0\n3  Senseless Eccentric Cabaret feat. Cyfer  ...  140.0\n4  Senseless Eccentric Cabaret feat. Cyfer  ...  140.0\n5                               Status Quo  ...  140.0\n6                             Axel Fischer  ...  140.0\n7                             Axel Fischer  ...  140.0\n8                             Axel Fischer  ...  140.0\n9  Senseless Eccentric Cabaret feat. Cyfer  ...  140.0\n\n[10 rows x 3 columns]\n"
     ]
    }
   ],
   "source": [
    "top_artists_pandas = top_artists.toPandas() \n",
    "top_DJ_pandas = top_DJ.toPandas()"
   ]
  },
  {
   "cell_type": "code",
   "execution_count": 0,
   "metadata": {
    "application/vnd.databricks.v1+cell": {
     "cellMetadata": {
      "byteLimit": 2048000,
      "rowLimit": 10000
     },
     "inputWidgets": {},
     "nuid": "e328920a-8f3e-4086-ba33-46653b73352e",
     "showTitle": false,
     "title": ""
    }
   },
   "outputs": [
    {
     "output_type": "execute_result",
     "data": {
      "text/html": [
       "<div>\n",
       "<style scoped>\n",
       "    .dataframe tbody tr th:only-of-type {\n",
       "        vertical-align: middle;\n",
       "    }\n",
       "\n",
       "    .dataframe tbody tr th {\n",
       "        vertical-align: top;\n",
       "    }\n",
       "\n",
       "    .dataframe thead th {\n",
       "        text-align: right;\n",
       "    }\n",
       "</style>\n",
       "<table border=\"1\" class=\"dataframe\">\n",
       "  <thead>\n",
       "    <tr style=\"text-align: right;\">\n",
       "      <th></th>\n",
       "      <th>artist_name</th>\n",
       "      <th>num_songs</th>\n",
       "      <th>year</th>\n",
       "    </tr>\n",
       "  </thead>\n",
       "  <tbody>\n",
       "    <tr>\n",
       "      <th>0</th>\n",
       "      <td>Beastie Boys</td>\n",
       "      <td>20</td>\n",
       "      <td>1994</td>\n",
       "    </tr>\n",
       "    <tr>\n",
       "      <th>1</th>\n",
       "      <td>Roebeck</td>\n",
       "      <td>16</td>\n",
       "      <td>2010</td>\n",
       "    </tr>\n",
       "    <tr>\n",
       "      <th>2</th>\n",
       "      <td>Darla Farmer</td>\n",
       "      <td>16</td>\n",
       "      <td>2009</td>\n",
       "    </tr>\n",
       "    <tr>\n",
       "      <th>3</th>\n",
       "      <td>Maximo Park</td>\n",
       "      <td>16</td>\n",
       "      <td>2009</td>\n",
       "    </tr>\n",
       "    <tr>\n",
       "      <th>4</th>\n",
       "      <td>Calvin Harris</td>\n",
       "      <td>16</td>\n",
       "      <td>2007</td>\n",
       "    </tr>\n",
       "    <tr>\n",
       "      <th>5</th>\n",
       "      <td>Low Low Low La La La Love Love Love</td>\n",
       "      <td>16</td>\n",
       "      <td>2007</td>\n",
       "    </tr>\n",
       "    <tr>\n",
       "      <th>6</th>\n",
       "      <td>Lucky Fonz III</td>\n",
       "      <td>16</td>\n",
       "      <td>2007</td>\n",
       "    </tr>\n",
       "    <tr>\n",
       "      <th>7</th>\n",
       "      <td>Shinobu</td>\n",
       "      <td>16</td>\n",
       "      <td>2006</td>\n",
       "    </tr>\n",
       "    <tr>\n",
       "      <th>8</th>\n",
       "      <td>Susana Félix</td>\n",
       "      <td>16</td>\n",
       "      <td>2006</td>\n",
       "    </tr>\n",
       "    <tr>\n",
       "      <th>9</th>\n",
       "      <td>Ordo Rosarius Equilibrio</td>\n",
       "      <td>16</td>\n",
       "      <td>2006</td>\n",
       "    </tr>\n",
       "  </tbody>\n",
       "</table>\n",
       "</div>"
      ],
      "text/plain": [
       "                           artist_name  num_songs  year\n",
       "0                         Beastie Boys         20  1994\n",
       "1                              Roebeck         16  2010\n",
       "2                         Darla Farmer         16  2009\n",
       "3                          Maximo Park         16  2009\n",
       "4                        Calvin Harris         16  2007\n",
       "5  Low Low Low La La La Love Love Love         16  2007\n",
       "6                       Lucky Fonz III         16  2007\n",
       "7                              Shinobu         16  2006\n",
       "8                         Susana Félix         16  2006\n",
       "9             Ordo Rosarius Equilibrio         16  2006"
      ]
     },
     "execution_count": 10,
     "metadata": {},
     "output_type": "execute_result"
    }
   ],
   "source": [
    "top_artists_pandas"
   ]
  },
  {
   "cell_type": "code",
   "execution_count": 0,
   "metadata": {
    "application/vnd.databricks.v1+cell": {
     "cellMetadata": {
      "byteLimit": 2048000,
      "rowLimit": 10000
     },
     "inputWidgets": {},
     "nuid": "fa8619fd-42e4-497c-8fff-354371188dbb",
     "showTitle": false,
     "title": ""
    }
   },
   "outputs": [
    {
     "output_type": "execute_result",
     "data": {
      "text/html": [
       "<div>\n",
       "<style scoped>\n",
       "    .dataframe tbody tr th:only-of-type {\n",
       "        vertical-align: middle;\n",
       "    }\n",
       "\n",
       "    .dataframe tbody tr th {\n",
       "        vertical-align: top;\n",
       "    }\n",
       "\n",
       "    .dataframe thead th {\n",
       "        text-align: right;\n",
       "    }\n",
       "</style>\n",
       "<table border=\"1\" class=\"dataframe\">\n",
       "  <thead>\n",
       "    <tr style=\"text-align: right;\">\n",
       "      <th></th>\n",
       "      <th>artist_name</th>\n",
       "      <th>title</th>\n",
       "      <th>tempo</th>\n",
       "    </tr>\n",
       "  </thead>\n",
       "  <tbody>\n",
       "    <tr>\n",
       "      <th>0</th>\n",
       "      <td>Axel Fischer</td>\n",
       "      <td>Du Trägst Keine Liebe In Dir (Party Version)</td>\n",
       "      <td>140.0</td>\n",
       "    </tr>\n",
       "    <tr>\n",
       "      <th>1</th>\n",
       "      <td>Status Quo</td>\n",
       "      <td>Another Shipwreck</td>\n",
       "      <td>140.0</td>\n",
       "    </tr>\n",
       "    <tr>\n",
       "      <th>2</th>\n",
       "      <td>Senseless Eccentric Cabaret feat. Cyfer</td>\n",
       "      <td>Wir sind es wert (Factory Mix)</td>\n",
       "      <td>140.0</td>\n",
       "    </tr>\n",
       "    <tr>\n",
       "      <th>3</th>\n",
       "      <td>Senseless Eccentric Cabaret feat. Cyfer</td>\n",
       "      <td>Wir sind es wert (Factory Mix)</td>\n",
       "      <td>140.0</td>\n",
       "    </tr>\n",
       "    <tr>\n",
       "      <th>4</th>\n",
       "      <td>Senseless Eccentric Cabaret feat. Cyfer</td>\n",
       "      <td>Wir sind es wert (Factory Mix)</td>\n",
       "      <td>140.0</td>\n",
       "    </tr>\n",
       "    <tr>\n",
       "      <th>5</th>\n",
       "      <td>Status Quo</td>\n",
       "      <td>Another Shipwreck</td>\n",
       "      <td>140.0</td>\n",
       "    </tr>\n",
       "    <tr>\n",
       "      <th>6</th>\n",
       "      <td>Axel Fischer</td>\n",
       "      <td>Du Trägst Keine Liebe In Dir (Party Version)</td>\n",
       "      <td>140.0</td>\n",
       "    </tr>\n",
       "    <tr>\n",
       "      <th>7</th>\n",
       "      <td>Axel Fischer</td>\n",
       "      <td>Du Trägst Keine Liebe In Dir (Party Version)</td>\n",
       "      <td>140.0</td>\n",
       "    </tr>\n",
       "    <tr>\n",
       "      <th>8</th>\n",
       "      <td>Axel Fischer</td>\n",
       "      <td>Du Trägst Keine Liebe In Dir (Party Version)</td>\n",
       "      <td>140.0</td>\n",
       "    </tr>\n",
       "    <tr>\n",
       "      <th>9</th>\n",
       "      <td>Senseless Eccentric Cabaret feat. Cyfer</td>\n",
       "      <td>Wir sind es wert (Factory Mix)</td>\n",
       "      <td>140.0</td>\n",
       "    </tr>\n",
       "  </tbody>\n",
       "</table>\n",
       "</div>"
      ],
      "text/plain": [
       "                               artist_name  ...  tempo\n",
       "0                             Axel Fischer  ...  140.0\n",
       "1                               Status Quo  ...  140.0\n",
       "2  Senseless Eccentric Cabaret feat. Cyfer  ...  140.0\n",
       "3  Senseless Eccentric Cabaret feat. Cyfer  ...  140.0\n",
       "4  Senseless Eccentric Cabaret feat. Cyfer  ...  140.0\n",
       "5                               Status Quo  ...  140.0\n",
       "6                             Axel Fischer  ...  140.0\n",
       "7                             Axel Fischer  ...  140.0\n",
       "8                             Axel Fischer  ...  140.0\n",
       "9  Senseless Eccentric Cabaret feat. Cyfer  ...  140.0\n",
       "\n",
       "[10 rows x 3 columns]"
      ]
     },
     "execution_count": 11,
     "metadata": {},
     "output_type": "execute_result"
    }
   ],
   "source": [
    "top_DJ_pandas"
   ]
  }
 ],
 "metadata": {
  "application/vnd.databricks.v1+notebook": {
   "dashboards": [],
   "language": "python",
   "notebookMetadata": {
    "pythonIndentUnit": 4
   },
   "notebookName": "query & vis",
   "widgets": {}
  }
 },
 "nbformat": 4,
 "nbformat_minor": 0
}
